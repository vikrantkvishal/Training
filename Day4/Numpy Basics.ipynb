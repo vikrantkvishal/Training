{
 "cells": [
  {
   "cell_type": "code",
   "execution_count": 1,
   "id": "b625d241-e11e-48fb-84e1-5e0def920ce7",
   "metadata": {},
   "outputs": [
    {
     "name": "stdout",
     "output_type": "stream",
     "text": [
      "2.2.3\n"
     ]
    }
   ],
   "source": [
    "import numpy as np\n",
    "print(np.__version__)\n"
   ]
  },
  {
   "cell_type": "code",
   "execution_count": 2,
   "id": "cdd059ed-0567-4ba1-a413-4567793f2ba6",
   "metadata": {},
   "outputs": [
    {
     "name": "stdout",
     "output_type": "stream",
     "text": [
      "[10 20 30 40 50]\n",
      "Type:  <class 'numpy.ndarray'>\n"
     ]
    }
   ],
   "source": [
    "list = [10,20,30,40,50]\n",
    "arr = np.array(list)\n",
    "print(arr)\n",
    "print('Type: ',type(arr))\n"
   ]
  },
  {
   "cell_type": "code",
   "execution_count": 9,
   "id": "a517ea2a-d67a-422c-9f0d-fd7faeade3ac",
   "metadata": {},
   "outputs": [
    {
     "name": "stdout",
     "output_type": "stream",
     "text": [
      "[[1 2 3]\n",
      " [4 5 6]]\n",
      "(2, 3)\n",
      "6\n",
      "[1 2 3]\n",
      "2\n"
     ]
    }
   ],
   "source": [
    "arr1 = np.array([[1,2,3],[4,5,6]])\n",
    "print(arr1)\n",
    "print(arr1.shape)\n",
    "print(arr1.size)\n",
    "\n",
    "\n",
    "print(arr1[0])\n",
    "print(arr1[0][1])"
   ]
  },
  {
   "cell_type": "code",
   "execution_count": 16,
   "id": "22fda7de-2c0f-40b8-b683-46502fc5fb85",
   "metadata": {},
   "outputs": [
    {
     "name": "stdout",
     "output_type": "stream",
     "text": [
      "[[0. 0. 0.]\n",
      " [0. 0. 0.]]\n",
      "[[0 0 0]\n",
      " [0 0 0]]\n",
      "[2 3 4]\n",
      "[1 4 7]\n"
     ]
    }
   ],
   "source": [
    "arr1 = np.zeros((2,3))\n",
    "print(arr1)\n",
    "\n",
    "arr1 = np.zeros((2,3),dtype=int)\n",
    "print(arr1)\n",
    "\n",
    "arr2 = np.arange(2,5)\n",
    "print(arr2)\n",
    "\n",
    "arr3 = np.arange(1,10,3)\n",
    "print(arr3)\n"
   ]
  },
  {
   "cell_type": "code",
   "execution_count": 19,
   "id": "7c33244f-885d-4fce-b0c8-bcdc7beec27a",
   "metadata": {},
   "outputs": [
    {
     "name": "stdout",
     "output_type": "stream",
     "text": [
      "[[1 4 7]\n",
      " [2 5 8]]\n"
     ]
    }
   ],
   "source": [
    "arr4 = np.array([np.arange(1,10,3),np.arange(2,10,3)])\n",
    "print(arr4)\n",
    "\n"
   ]
  },
  {
   "cell_type": "code",
   "execution_count": 22,
   "id": "4c4633c1-a59e-4632-a75a-8f18445129a4",
   "metadata": {},
   "outputs": [
    {
     "name": "stdout",
     "output_type": "stream",
     "text": [
      "[ 3  9 15]\n",
      "[ 2 20 56]\n",
      "[ 1 16 49]\n"
     ]
    }
   ],
   "source": [
    "a = np.arange(1,10,3)\n",
    "b = np.arange(2,10,3)\n",
    "\n",
    "print(a+b)\n",
    "print(a*b)\n",
    "print(a**2)\n"
   ]
  },
  {
   "cell_type": "code",
   "execution_count": 25,
   "id": "bb107ebe-0cb3-4ee1-b57b-41370293fcdf",
   "metadata": {},
   "outputs": [
    {
     "name": "stdout",
     "output_type": "stream",
     "text": [
      "Total spend: [ 450  950  450 1650  190]\n",
      "Average spend: [150.         316.66666667 150.         550.          63.33333333]\n",
      "246.0\n"
     ]
    }
   ],
   "source": [
    "purchases = np.array([\n",
    "    [200,150,100],\n",
    "    [300,250,400],\n",
    "    [100,200,150],\n",
    "    [500,600,550],\n",
    "    [80,50,60]\n",
    "])\n",
    "\n",
    "total_spend = purchases.sum(axis=1)\n",
    "print(f\"Total spend: {total_spend}\")\n",
    "\n",
    "avg_spend = purchases.mean(axis=1)\n",
    "print(f\"Average spend: {avg_spend}\")\n",
    "\n",
    "print(avg_spend.mean())\n"
   ]
  },
  {
   "cell_type": "code",
   "execution_count": 27,
   "id": "76641b3f-8498-4c63-900f-6064cb814b02",
   "metadata": {},
   "outputs": [
    {
     "name": "stdout",
     "output_type": "stream",
     "text": [
      "x is 2.2 , y is 1.2\n"
     ]
    }
   ],
   "source": [
    "# 2x + 3y = 8\n",
    "# 4x + y = 10\n",
    "\n",
    "A = np.array([[2,3],[4,1]])\n",
    "\n",
    "B = np.array([8,10])\n",
    "\n",
    "sol = np.linalg.solve(A,B)\n",
    "\n",
    "print(f\"x is {sol[0]} , y is {sol[1]}\")\n",
    "\n"
   ]
  },
  {
   "cell_type": "code",
   "execution_count": 43,
   "id": "6ca2ba0c-e31b-4422-bf05-759009fd7be9",
   "metadata": {},
   "outputs": [
    {
     "name": "stdout",
     "output_type": "stream",
     "text": [
      "Total Sales: 14600 , Average Sales: 1460.0 , Highest Sales: 2400 , Lowest Sales: 1000\n",
      "[1000 1500 1200 1800 1100 1300 2400 1500 1700 1100]\n",
      "1500 \n",
      "1800 \n",
      "2400 \n",
      "1500 \n",
      "1700 \n",
      "Sales higher than average [1500 1800 2400 1500 1700]\n",
      "[1100. 1650. 1320. 1980. 1210. 1430. 2640. 1650. 1870. 1210.]\n",
      "[1000 1100 1100 1200 1300 1500 1500 1700 1800 2400]\n"
     ]
    }
   ],
   "source": [
    "sales = np.array([1000,1500,1200,1800,1100,1300,2400,1500,1700,1100])\n",
    "\n",
    "print(f\"Total Sales: {sales.sum()} , Average Sales: {sales.mean()} , Highest Sales: {max(sales)} , Lowest Sales: {min(sales)}\")\n",
    "\n",
    "print(sales)\n",
    "\n",
    "for i in sales:\n",
    "    if i>sales.mean():\n",
    "        print(f\"{i} \")\n",
    "\n",
    "print(f\"Sales higher than average {sales[sales>sales.mean()]}\")\n",
    "\n",
    "sales2 = np.array(sales * 1.1)\n",
    "print(sales2)\n",
    "\n",
    "sales.sort()\n",
    "# np.sort(sales)\n",
    "print(sales)\n",
    "\n",
    "\n"
   ]
  },
  {
   "cell_type": "code",
   "execution_count": 53,
   "id": "f5866f72-22b8-4a1c-86dc-10ad3ed14efc",
   "metadata": {},
   "outputs": [
    {
     "name": "stdout",
     "output_type": "stream",
     "text": [
      "   Order_ID       Product     Category  Quantity  Price  Total_Amount  \\\n",
      "0      1001        Laptop  Electronics         2    700           NaN   \n",
      "1      1002  Mobile Phone  Electronics         1    500           NaN   \n",
      "2      1003    Headphones  Accessories         3     50           NaN   \n",
      "3      1004         Mouse  Accessories         2     20           NaN   \n",
      "4      1005      Keyboard  Accessories         1     30           NaN   \n",
      "5      1006       T-shirt     Clothing         4     15           NaN   \n",
      "6      1007        Jacket     Clothing         1     60           NaN   \n",
      "7      1008  Refrigerator  Electronics         1    900           NaN   \n",
      "8      1009            TV  Electronics         2   1100           NaN   \n",
      "9      1010         Shoes     Clothing         2     40           NaN   \n",
      "\n",
      "         Date  \n",
      "0  2024-02-01  \n",
      "1  2024-02-02  \n",
      "2  2024-02-03  \n",
      "3  2024-02-04  \n",
      "4  2024-02-05  \n",
      "5  2024-02-06  \n",
      "6  2024-02-07  \n",
      "7  2024-02-08  \n",
      "8  2024-02-09  \n",
      "9  2024-02-10  \n"
     ]
    }
   ],
   "source": [
    "import pandas as pd\n",
    "\n",
    "df = pd.read_csv('sales_data2.csv')\n",
    "# print(df)\n",
    "\n",
    "df.isnull()\n",
    "\n",
    "df.fillna(0)\n",
    "\n",
    "df.duplicated()\n",
    "\n",
    "df.dtypes\n",
    "\n",
    "df['Date'] = pd.to_datetime(df['Date'])\n",
    "print(df)\n",
    "\n"
   ]
  },
  {
   "cell_type": "code",
   "execution_count": 54,
   "id": "aab47a76-19e6-4a2a-8919-2e72cd2d07e4",
   "metadata": {},
   "outputs": [
    {
     "name": "stdout",
     "output_type": "stream",
     "text": [
      "Outliers:  [100]\n"
     ]
    }
   ],
   "source": [
    "data = np.array([10,12,14,15,18,21,25,100])\n",
    "\n",
    "Q1 = np.percentile(data,25)\n",
    "# Q1 = (data * 0.25)\n",
    "\n",
    "Q3 = np.percentile(data,75)\n",
    "# Q2 = (data * 0.75)\n",
    "\n",
    "IQR = Q3 - Q1\n",
    "\n",
    "lower_bound = Q1 - 1.5 * IQR\n",
    "upper_bound = Q3 + 1.5 * IQR\n",
    "\n",
    "outliers = data [(data < lower_bound) | (data>upper_bound)]\n",
    "\n",
    "print(\"Outliers: \",outliers)\n",
    "\n"
   ]
  },
  {
   "cell_type": "code",
   "execution_count": null,
   "id": "7e725dae-178d-4122-9e95-d069be2b279b",
   "metadata": {},
   "outputs": [],
   "source": []
  }
 ],
 "metadata": {
  "kernelspec": {
   "display_name": "Python 3 (ipykernel)",
   "language": "python",
   "name": "python3"
  },
  "language_info": {
   "codemirror_mode": {
    "name": "ipython",
    "version": 3
   },
   "file_extension": ".py",
   "mimetype": "text/x-python",
   "name": "python",
   "nbconvert_exporter": "python",
   "pygments_lexer": "ipython3",
   "version": "3.13.2"
  }
 },
 "nbformat": 4,
 "nbformat_minor": 5
}
