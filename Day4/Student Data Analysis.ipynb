{
 "cells": [
  {
   "cell_type": "code",
   "execution_count": 7,
   "id": "742cfe5c-9e2d-431d-8cae-8bf8723965d8",
   "metadata": {},
   "outputs": [
    {
     "name": "stdout",
     "output_type": "stream",
     "text": [
      "   id            name  math  science  english  total         grade\n",
      "0   1        Ida Sach    40       62       38    212  leading edge\n",
      "1   2  Haleigh Dulany    38       57       50    111    high-level\n",
      "2   3   Berte Rowlett    12       79       10    208    task-force\n",
      "3   4     Cad McQuode    12       42       82    207     help-desk\n",
      "4   5       Prue Izod    37       58       55    222       neutral\n"
     ]
    },
    {
     "data": {
      "text/html": [
       "<div>\n",
       "<style scoped>\n",
       "    .dataframe tbody tr th:only-of-type {\n",
       "        vertical-align: middle;\n",
       "    }\n",
       "\n",
       "    .dataframe tbody tr th {\n",
       "        vertical-align: top;\n",
       "    }\n",
       "\n",
       "    .dataframe thead th {\n",
       "        text-align: right;\n",
       "    }\n",
       "</style>\n",
       "<table border=\"1\" class=\"dataframe\">\n",
       "  <thead>\n",
       "    <tr style=\"text-align: right;\">\n",
       "      <th></th>\n",
       "      <th>name</th>\n",
       "      <th>math</th>\n",
       "      <th>science</th>\n",
       "      <th>english</th>\n",
       "      <th>total</th>\n",
       "    </tr>\n",
       "  </thead>\n",
       "  <tbody>\n",
       "    <tr>\n",
       "      <th>0</th>\n",
       "      <td>Ida Sach</td>\n",
       "      <td>40</td>\n",
       "      <td>62</td>\n",
       "      <td>38</td>\n",
       "      <td>140</td>\n",
       "    </tr>\n",
       "    <tr>\n",
       "      <th>1</th>\n",
       "      <td>Haleigh Dulany</td>\n",
       "      <td>38</td>\n",
       "      <td>57</td>\n",
       "      <td>50</td>\n",
       "      <td>145</td>\n",
       "    </tr>\n",
       "    <tr>\n",
       "      <th>2</th>\n",
       "      <td>Berte Rowlett</td>\n",
       "      <td>12</td>\n",
       "      <td>79</td>\n",
       "      <td>10</td>\n",
       "      <td>101</td>\n",
       "    </tr>\n",
       "    <tr>\n",
       "      <th>3</th>\n",
       "      <td>Cad McQuode</td>\n",
       "      <td>12</td>\n",
       "      <td>42</td>\n",
       "      <td>82</td>\n",
       "      <td>136</td>\n",
       "    </tr>\n",
       "    <tr>\n",
       "      <th>4</th>\n",
       "      <td>Prue Izod</td>\n",
       "      <td>37</td>\n",
       "      <td>58</td>\n",
       "      <td>55</td>\n",
       "      <td>150</td>\n",
       "    </tr>\n",
       "  </tbody>\n",
       "</table>\n",
       "</div>"
      ],
      "text/plain": [
       "             name  math  science  english  total\n",
       "0        Ida Sach    40       62       38    140\n",
       "1  Haleigh Dulany    38       57       50    145\n",
       "2   Berte Rowlett    12       79       10    101\n",
       "3     Cad McQuode    12       42       82    136\n",
       "4       Prue Izod    37       58       55    150"
      ]
     },
     "execution_count": 7,
     "metadata": {},
     "output_type": "execute_result"
    }
   ],
   "source": [
    "import pandas as pd\n",
    "\n",
    "df = pd.read_csv('marks_data.csv')\n",
    "\n",
    "# print(df)\n",
    "\n",
    "print(df.head())\n",
    "\n",
    "df.isna()\n",
    "\n",
    "df['total'] = df[['math','science','english']].sum(axis=1)\n",
    "df[['name','math','science','english','total']].head()"
   ]
  },
  {
   "cell_type": "code",
   "execution_count": 22,
   "id": "174c039e-b183-4736-ba9a-320c19d70235",
   "metadata": {},
   "outputs": [
    {
     "name": "stdout",
     "output_type": "stream",
     "text": [
      "    id         name  math  science  english  total grade\n",
      "30  31  Joyann Maus    93       95       72    260     A\n",
      "id         20\n",
      "name       20\n",
      "math       20\n",
      "science    20\n",
      "english    20\n",
      "total      20\n",
      "grade      20\n",
      "dtype: int64\n",
      "20\n",
      "50\n",
      "0     False\n",
      "1     False\n",
      "2     False\n",
      "3     False\n",
      "4     False\n",
      "      ...  \n",
      "95    False\n",
      "96     True\n",
      "97    False\n",
      "98    False\n",
      "99    False\n",
      "Name: math, Length: 100, dtype: bool\n"
     ]
    }
   ],
   "source": [
    "def assign_grade(total):\n",
    "    if total >=250:\n",
    "        return 'A'\n",
    "    elif total >=200:\n",
    "        return 'B'\n",
    "    elif total >=150:\n",
    "        return 'C'\n",
    "    else:\n",
    "        return 'D'\n",
    "\n",
    "\n",
    "df['grade'] = df['total'].apply(assign_grade)\n",
    "\n",
    "df.head()\n",
    "\n",
    "df.tail()\n",
    "\n",
    "grade_a = df[df['grade'] == 'A']\n",
    "print(grade_a)\n",
    "\n",
    "grade_b = df[df['grade'] == 'B']\n",
    "print(grade_b.count())\n",
    "print(len(grade_b))\n",
    "\n",
    "grade_d = df[df['grade'] == 'D']\n",
    "print(len(grade_d))\n"
   ]
  },
  {
   "cell_type": "code",
   "execution_count": 25,
   "id": "665029cf-1fa0-4d60-929b-d9c85158552a",
   "metadata": {},
   "outputs": [
    {
     "name": "stdout",
     "output_type": "stream",
     "text": [
      "    id        name  math  science  english  total grade\n",
      "96  97  Tonya Fort    97       22       80    199     C\n"
     ]
    }
   ],
   "source": [
    "print(df[df['math'] == max(df['math'])])\n"
   ]
  },
  {
   "cell_type": "code",
   "execution_count": 26,
   "id": "a324b617-4584-4a0c-bca1-c628530b65e4",
   "metadata": {},
   "outputs": [],
   "source": [
    "\n",
    "df.to_csv(\"data_new.csv\",index= False)"
   ]
  },
  {
   "cell_type": "code",
   "execution_count": null,
   "id": "a5e79a60-1a6b-4d76-9723-d777fd276e6f",
   "metadata": {},
   "outputs": [],
   "source": []
  }
 ],
 "metadata": {
  "kernelspec": {
   "display_name": "Python 3 (ipykernel)",
   "language": "python",
   "name": "python3"
  },
  "language_info": {
   "codemirror_mode": {
    "name": "ipython",
    "version": 3
   },
   "file_extension": ".py",
   "mimetype": "text/x-python",
   "name": "python",
   "nbconvert_exporter": "python",
   "pygments_lexer": "ipython3",
   "version": "3.13.2"
  }
 },
 "nbformat": 4,
 "nbformat_minor": 5
}
