{
 "cells": [
  {
   "cell_type": "code",
   "execution_count": 1,
   "id": "6c0a95b9-bfef-46b8-8839-f8e9ea80e547",
   "metadata": {},
   "outputs": [
    {
     "name": "stdout",
     "output_type": "stream",
     "text": [
      "   Order_ID             Product Name  Category  Quantity  Price  Total  \\\n",
      "0      1001      Philips Xenium 9@9w   Philips         5   6326      0   \n",
      "1      1002          Motorola Moto X  Motorola         4   6503      0   \n",
      "2      1003           Bird S288 Plus      Bird         2  10975      0   \n",
      "3      1004    Motorola Moto G6 Plus  Motorola         3  11791      0   \n",
      "4      1005  Samsung I9003 Galaxy SL   Samsung         5   5617      0   \n",
      "\n",
      "        Date  \n",
      "0  1/18/2025  \n",
      "1  4/28/2024  \n",
      "2  7/30/2024  \n",
      "3  7/13/2024  \n",
      "4  2/26/2024  \n"
     ]
    }
   ],
   "source": [
    "import pandas as pd\n",
    "\n",
    "# create dataframe by reading csv file\n",
    "df = pd.read_csv('Activity 2 Data.csv')\n",
    "\n",
    "print(df.head())"
   ]
  },
  {
   "cell_type": "code",
   "execution_count": 11,
   "id": "a1ecea87-8477-462c-9795-b1055f61ac07",
   "metadata": {},
   "outputs": [
    {
     "name": "stdout",
     "output_type": "stream",
     "text": [
      "    Order_ID                 Product Name      Category  Quantity  Price  \\\n",
      "0       1001          Philips Xenium 9@9w       Philips         5   6326   \n",
      "1       1002              Motorola Moto X      Motorola         4   6503   \n",
      "2       1003               Bird S288 Plus          Bird         2  10975   \n",
      "3       1004        Motorola Moto G6 Plus      Motorola         3  11791   \n",
      "4       1005      Samsung I9003 Galaxy SL       Samsung         5   5617   \n",
      "5       1006               Sony Xperia E5          Sony         4  10199   \n",
      "6       1007            QMobile Noir A110       QMobile         5   9371   \n",
      "7       1008        Allview X2 Soul Style       Allview         5   7420   \n",
      "8       1009                    Nokia E90         Nokia         3  11187   \n",
      "9       1010        Gigabyte GSmart MS802      Gigabyte         4   7699   \n",
      "10      1011           Allview V2 Viper i       Allview         4   3725   \n",
      "11      1012  Motorola Moto E4 Plus (USA)      Motorola         1   8613   \n",
      "12      1013            BenQ-Siemens EF71  BenQ-Siemens         4  10409   \n",
      "13      1014            Samsung Galaxy S7       Samsung         1   6256   \n",
      "14      1015                     NEC N840           NEC         1   3810   \n",
      "15      1016         Panasonic Eluga Mark     Panasonic         5  10714   \n",
      "16      1017             Samsung Galaxy A       Samsung         5   5733   \n",
      "17      1018              Sewon SG-2890CD         Sewon         4   3272   \n",
      "18      1019                    Qtek 8010          Qtek         2   9467   \n",
      "19      1020           LG Optimus L3 E405            LG         1   6352   \n",
      "20      1021                     ZTE A261           ZTE         5   9584   \n",
      "21      1022          Allview X3 Soul Pro       Allview         3   3089   \n",
      "22      1023                    Qtek 7070          Qtek         4   4508   \n",
      "23      1024                Infinix Smart       Infinix         5   7929   \n",
      "24      1025                  BLU J6 2020           BLU         3   6608   \n",
      "25      1026                Sewon SGD-102         Sewon         2  11275   \n",
      "26      1027                   LG Stylo 5            LG         4   5833   \n",
      "27      1028       Microsoft Lumia 640 XL     Microsoft         3   5492   \n",
      "28      1029               Micromax GC400      Micromax         1   5616   \n",
      "29      1030                 Philips W732       Philips         1   5100   \n",
      "\n",
      "    Total        Date  \n",
      "0   31630   1/18/2025  \n",
      "1   26012   4/28/2024  \n",
      "2   21950   7/30/2024  \n",
      "3   35373   7/13/2024  \n",
      "4   28085   2/26/2024  \n",
      "5   40796   6/11/2024  \n",
      "6   46855   3/18/2024  \n",
      "7   37100  10/10/2024  \n",
      "8   33561   11/8/2024  \n",
      "9   30796   7/21/2024  \n",
      "10  14900   6/25/2024  \n",
      "11   8613   6/14/2024  \n",
      "12  41636   3/21/2024  \n",
      "13   6256   10/4/2024  \n",
      "14   3810   1/13/2025  \n",
      "15  53570   6/22/2024  \n",
      "16  28665   9/17/2024  \n",
      "17  13088  11/10/2024  \n",
      "18  18934   5/16/2024  \n",
      "19   6352   10/9/2024  \n",
      "20  47920   7/24/2024  \n",
      "21   9267   11/1/2024  \n",
      "22  18032  10/11/2024  \n",
      "23  39645   10/7/2024  \n",
      "24  19824  12/22/2024  \n",
      "25  22550    2/1/2025  \n",
      "26  23332    2/7/2025  \n",
      "27  16476    5/5/2024  \n",
      "28   5616   6/25/2024  \n",
      "29   5100   8/27/2024  \n"
     ]
    }
   ],
   "source": [
    "df['Total'] = df['Quantity']* df['Price']\n",
    "print(df)"
   ]
  },
  {
   "cell_type": "code",
   "execution_count": 24,
   "id": "999a29b2-63be-4e53-a0af-0fa29425dbcc",
   "metadata": {},
   "outputs": [
    {
     "name": "stdout",
     "output_type": "stream",
     "text": [
      "Maximum Sold Product : Allview\n"
     ]
    }
   ],
   "source": [
    "grouped_df = df.groupby('Category')['Quantity'].sum()\n",
    "sold = grouped_df.idxmax()\n",
    "print(\"Maximum Sold Product :\",sold )"
   ]
  },
  {
   "cell_type": "code",
   "execution_count": 28,
   "id": "8b8bfbd2-820d-4d59-a621-8b132a66f55e",
   "metadata": {},
   "outputs": [
    {
     "name": "stdout",
     "output_type": "stream",
     "text": [
      "Category\n",
      "Allview         61267\n",
      "BLU             19824\n",
      "BenQ-Siemens    41636\n",
      "Bird            21950\n",
      "Gigabyte        30796\n",
      "Infinix         39645\n",
      "LG              29684\n",
      "Micromax         5616\n",
      "Microsoft       16476\n",
      "Motorola        69998\n",
      "NEC              3810\n",
      "Nokia           33561\n",
      "Panasonic       53570\n",
      "Philips         36730\n",
      "QMobile         46855\n",
      "Qtek            36966\n",
      "Samsung         63006\n",
      "Sewon           35638\n",
      "Sony            40796\n",
      "ZTE             47920\n",
      "Name: Total, dtype: int64\n"
     ]
    }
   ],
   "source": [
    "Total_sales = df.groupby('Category').sum()['Total']\n",
    "print(Total_sales)"
   ]
  },
  {
   "cell_type": "code",
   "execution_count": 23,
   "id": "de2fb0bb-84ab-4491-9d1a-7fd2960973e1",
   "metadata": {},
   "outputs": [
    {
     "name": "stdout",
     "output_type": "stream",
     "text": [
      "    Order_ID             Product Name      Category  Quantity  Price  Total  \\\n",
      "0       1001      Philips Xenium 9@9w       Philips         5   6326  31630   \n",
      "1       1002          Motorola Moto X      Motorola         4   6503  26012   \n",
      "2       1003           Bird S288 Plus          Bird         2  10975  21950   \n",
      "3       1004    Motorola Moto G6 Plus      Motorola         3  11791  35373   \n",
      "4       1005  Samsung I9003 Galaxy SL       Samsung         5   5617  28085   \n",
      "5       1006           Sony Xperia E5          Sony         4  10199  40796   \n",
      "6       1007        QMobile Noir A110       QMobile         5   9371  46855   \n",
      "7       1008    Allview X2 Soul Style       Allview         5   7420  37100   \n",
      "8       1009                Nokia E90         Nokia         3  11187  33561   \n",
      "9       1010    Gigabyte GSmart MS802      Gigabyte         4   7699  30796   \n",
      "10      1011       Allview V2 Viper i       Allview         4   3725  14900   \n",
      "12      1013        BenQ-Siemens EF71  BenQ-Siemens         4  10409  41636   \n",
      "15      1016     Panasonic Eluga Mark     Panasonic         5  10714  53570   \n",
      "16      1017         Samsung Galaxy A       Samsung         5   5733  28665   \n",
      "17      1018          Sewon SG-2890CD         Sewon         4   3272  13088   \n",
      "18      1019                Qtek 8010          Qtek         2   9467  18934   \n",
      "20      1021                 ZTE A261           ZTE         5   9584  47920   \n",
      "22      1023                Qtek 7070          Qtek         4   4508  18032   \n",
      "23      1024            Infinix Smart       Infinix         5   7929  39645   \n",
      "24      1025              BLU J6 2020           BLU         3   6608  19824   \n",
      "25      1026            Sewon SGD-102         Sewon         2  11275  22550   \n",
      "26      1027               LG Stylo 5            LG         4   5833  23332   \n",
      "27      1028   Microsoft Lumia 640 XL     Microsoft         3   5492  16476   \n",
      "\n",
      "          Date  \n",
      "0    1/18/2025  \n",
      "1    4/28/2024  \n",
      "2    7/30/2024  \n",
      "3    7/13/2024  \n",
      "4    2/26/2024  \n",
      "5    6/11/2024  \n",
      "6    3/18/2024  \n",
      "7   10/10/2024  \n",
      "8    11/8/2024  \n",
      "9    7/21/2024  \n",
      "10   6/25/2024  \n",
      "12   3/21/2024  \n",
      "15   6/22/2024  \n",
      "16   9/17/2024  \n",
      "17  11/10/2024  \n",
      "18   5/16/2024  \n",
      "20   7/24/2024  \n",
      "22  10/11/2024  \n",
      "23   10/7/2024  \n",
      "24  12/22/2024  \n",
      "25    2/1/2025  \n",
      "26    2/7/2025  \n",
      "27    5/5/2024  \n"
     ]
    }
   ],
   "source": [
    "more_10000 = df[df['Total'] > 10000]\n",
    "print(more_10000)"
   ]
  },
  {
   "cell_type": "code",
   "execution_count": null,
   "id": "da310cf3-862b-4db3-ad40-98ffbfca443c",
   "metadata": {},
   "outputs": [],
   "source": []
  }
 ],
 "metadata": {
  "kernelspec": {
   "display_name": "Python 3 (ipykernel)",
   "language": "python",
   "name": "python3"
  },
  "language_info": {
   "codemirror_mode": {
    "name": "ipython",
    "version": 3
   },
   "file_extension": ".py",
   "mimetype": "text/x-python",
   "name": "python",
   "nbconvert_exporter": "python",
   "pygments_lexer": "ipython3",
   "version": "3.13.2"
  }
 },
 "nbformat": 4,
 "nbformat_minor": 5
}
