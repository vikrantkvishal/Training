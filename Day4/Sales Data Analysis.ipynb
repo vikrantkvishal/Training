{
 "cells": [
  {
   "cell_type": "code",
   "execution_count": 9,
   "id": "c8f62be2-3576-47c8-a6c9-06feb94b9fe9",
   "metadata": {},
   "outputs": [
    {
     "name": "stdout",
     "output_type": "stream",
     "text": [
      "    orderId                     product  category  quantity  price  total  \\\n",
      "0      1001               Motorola C450  Motorola         4   9509  38036   \n",
      "1      1002      Allview Viva H1001 LTE   Allview         4   8131  32524   \n",
      "2      1003   Samsung Galaxy Note 3 Neo   Samsung         2  11805  23610   \n",
      "3      1004           Xiaomi Mi CC9 Pro    Xiaomi         4  11094  44376   \n",
      "4      1005        Ulefone Armor X5 Pro   Ulefone         4   2632  10528   \n",
      "5      1006                   Meizu M6s     Meizu         2   3865   7730   \n",
      "6      1007                      LG X4+        LG         2   5071  10142   \n",
      "7      1008            Motorola Moto G8  Motorola         1   8088   8088   \n",
      "8      1009           LG Lucid 4G VS840        LG         4   8625  34500   \n",
      "9      1010                O2 XDA Argon        O2         1  11760  11760   \n",
      "10     1011              XOLO A500S IPS      XOLO         1   8324   8324   \n",
      "11     1012                  Ulefone T2   Ulefone         3   8984  26952   \n",
      "12     1013                   Amoi A675      Amoi         3   3740  11220   \n",
      "13     1014         Archos 45c Platinum    Archos         1   9752   9752   \n",
      "14     1015                Samsung i400   Samsung         1  10896  10896   \n",
      "15     1016            Xiaomi Mi 9 Lite    Xiaomi         3   2861   8583   \n",
      "16     1017                    NEC N700       NEC         2   3383   6766   \n",
      "17     1018  Micromax Canvas xp 4G Q413  Micromax         4  11693  46772   \n",
      "18     1019           WND Wind DUO 2300       WND         2   5665  11330   \n",
      "19     1020          Sony Ericsson W830      Sony         4   2777  11108   \n",
      "\n",
      "          date  \n",
      "0     6/6/2024  \n",
      "1   11/28/2024  \n",
      "2    2/16/2024  \n",
      "3    8/27/2024  \n",
      "4    3/28/2024  \n",
      "5     1/2/2025  \n",
      "6    7/13/2024  \n",
      "7     8/2/2024  \n",
      "8    6/15/2024  \n",
      "9    11/3/2024  \n",
      "10   8/20/2024  \n",
      "11    3/3/2024  \n",
      "12   10/6/2024  \n",
      "13  12/17/2024  \n",
      "14  11/16/2024  \n",
      "15   9/15/2024  \n",
      "16   8/12/2024  \n",
      "17    1/4/2025  \n",
      "18   1/13/2025  \n",
      "19   10/9/2024  \n",
      "The most sold product is Ulefone with 7 units sold.\n"
     ]
    }
   ],
   "source": [
    "import pandas as pd\n",
    "\n",
    "df = pd.read_csv('sales_data.csv')\n",
    "\n",
    "# print(df)\n",
    "\n",
    "df['total'] = df['quantity'] * df['price']\n",
    "print(df)\n",
    "\n",
    "product_sales = df.groupby('category')['quantity'].sum()\n",
    "\n",
    "max_sold_pro = product_sales.idxmax()\n",
    "\n",
    "max_sold_quan = product_sales.max()\n",
    "\n",
    "print(f\"The most sold product is {max_sold_pro} with {max_sold_quan} units sold.\")\n",
    "\n"
   ]
  },
  {
   "cell_type": "code",
   "execution_count": null,
   "id": "f16ca9f3-217d-4975-a0ed-d0846e8f9a9f",
   "metadata": {},
   "outputs": [],
   "source": []
  }
 ],
 "metadata": {
  "kernelspec": {
   "display_name": "Python 3 (ipykernel)",
   "language": "python",
   "name": "python3"
  },
  "language_info": {
   "codemirror_mode": {
    "name": "ipython",
    "version": 3
   },
   "file_extension": ".py",
   "mimetype": "text/x-python",
   "name": "python",
   "nbconvert_exporter": "python",
   "pygments_lexer": "ipython3",
   "version": "3.13.2"
  }
 },
 "nbformat": 4,
 "nbformat_minor": 5
}
