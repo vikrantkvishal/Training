{
 "cells": [
  {
   "cell_type": "code",
   "execution_count": 4,
   "id": "90a4dd1a-5c56-458b-8089-d5b15011a440",
   "metadata": {},
   "outputs": [
    {
     "name": "stdout",
     "output_type": "stream",
     "text": [
      "Hello World\n"
     ]
    }
   ],
   "source": [
    "print(\"Hello World\")\n",
    "# hello"
   ]
  },
  {
   "cell_type": "code",
   "execution_count": 11,
   "id": "2b6cb616-3148-486c-aa30-e21d4a439122",
   "metadata": {},
   "outputs": [
    {
     "name": "stdout",
     "output_type": "stream",
     "text": [
      "10\n",
      "20.89\n",
      "Mind Sprint\n",
      "Number 1:  10\n",
      "Number 2: 20.89\n",
      "Name:  Mind Sprint\n",
      "<class 'int'>\n",
      "<class 'float'>\n",
      "<class 'str'>\n"
     ]
    }
   ],
   "source": [
    "# Variables\n",
    "num1 = 10\n",
    "num2 = 20.89\n",
    "name = \"Mind Sprint\"\n",
    "print(num1)\n",
    "print(num2)\n",
    "print(name)\n",
    "print(\"Number 1: \",num1)\n",
    "print(f\"Number 2: {num2}\")\n",
    "print(\"Name: \",name)\n",
    "print(type(num1))\n",
    "print(type(num2))\n",
    "print(type(name))"
   ]
  },
  {
   "cell_type": "code",
   "execution_count": 10,
   "id": "cfa5559a-efde-4cda-a6fd-3b901e406fb3",
   "metadata": {},
   "outputs": [
    {
     "name": "stdout",
     "output_type": "stream",
     "text": [
      "test1  ,  test2  ,  test3\n",
      "temp  ,  temp  , temp\n",
      "<class 'str'>\n"
     ]
    }
   ],
   "source": [
    "# Value Assignment to Variables\n",
    "x,y,z = \"test1\",\"test2\",\"test3\"\n",
    "print(x,\" , \",y,\" , \",z)\n",
    "# Assign same value to multiple variables\n",
    "p = q = r = \"temp\"\n",
    "print(p,\" , \",q,\" ,\" , r)\n",
    "# Data Type\n",
    "print(type(p))\n"
   ]
  },
  {
   "cell_type": "code",
   "execution_count": 18,
   "id": "4f920d30-0fb3-4c0d-8fcc-f1bcc4a612e3",
   "metadata": {},
   "outputs": [
    {
     "name": "stdin",
     "output_type": "stream",
     "text": [
      "Enter 1st number 4\n",
      "Enter 2nd number 2\n"
     ]
    },
    {
     "name": "stdout",
     "output_type": "stream",
     "text": [
      "Addition:  6\n",
      "Subtraction:  2\n",
      "Multiplication:  8\n",
      "Division:  2.0\n",
      "Floor Division:  2\n",
      "Modulus:  0\n",
      "Exponential:  16\n"
     ]
    }
   ],
   "source": [
    "#Taking input from the user\n",
    "num1 = int(input(\"Enter 1st number\"))\n",
    "num2 = int(input(\"Enter 2nd number\"))\n",
    "\n",
    "print(\"Addition: \",(num1+num2))\n",
    "print(\"Subtraction: \",( num1-num2))\n",
    "print(\"Multiplication: \",(num1*num2))\n",
    "print(\"Division: \",(num1/num2))\n",
    "print(\"Floor Division: \",(num1//num2))\n",
    "print(\"Modulus: \",(num1%num2))\n",
    "print(\"Exponential: \",(num1**num2))"
   ]
  },
  {
   "cell_type": "code",
   "execution_count": 19,
   "id": "faad1d3d-f43c-4d83-b170-a693a7b7ddfc",
   "metadata": {},
   "outputs": [
    {
     "name": "stdin",
     "output_type": "stream",
     "text": [
      "Enter 1st number 3\n",
      "Enter 2nd number 4\n"
     ]
    },
    {
     "name": "stdout",
     "output_type": "stream",
     "text": [
      "Is num1 equal to num2 ?  False\n",
      "Is num1 not equal to num2 ?  True\n",
      "Is num1 greater than to num2 ?  False\n"
     ]
    }
   ],
   "source": [
    "# Relational Operators\n",
    "\n",
    "num1 = int(input(\"Enter 1st number\"))\n",
    "num2 = int(input(\"Enter 2nd number\"))\n",
    "print(\"Is num1 equal to num2 ? \",num1==num2)\n",
    "print(\"Is num1 not equal to num2 ? \",num1!=num2)\n",
    "print(\"Is num1 greater than to num2 ? \",num1>num2)\n"
   ]
  },
  {
   "cell_type": "code",
   "execution_count": 22,
   "id": "eed89fbd-1b07-41d9-ae59-90cc92d5336a",
   "metadata": {},
   "outputs": [
    {
     "name": "stdout",
     "output_type": "stream",
     "text": [
      "15 \n",
      "\n",
      "10 \n",
      "\n",
      "50 \n",
      "\n",
      "10.0 \n",
      "\n",
      "100000.0 \n",
      "\n",
      "20000.0 \n",
      "\n"
     ]
    }
   ],
   "source": [
    "num = 10\n",
    "num+=5\n",
    "print(num,\"\\n\")\n",
    "num-=5\n",
    "print(num,\"\\n\")\n",
    "num*=5\n",
    "print(num,\"\\n\")\n",
    "num/=5\n",
    "print(num,\"\\n\")\n",
    "num**=5\n",
    "print(num,\"\\n\")\n",
    "num//=5\n",
    "print(num,\"\\n\")\n"
   ]
  },
  {
   "cell_type": "code",
   "execution_count": 23,
   "id": "ea3b3dcd-035c-42a8-95bf-9c0121a95947",
   "metadata": {},
   "outputs": [
    {
     "name": "stdin",
     "output_type": "stream",
     "text": [
      "Enter your email admin@gmail.com\n",
      "Enter your password admin@123\n"
     ]
    },
    {
     "name": "stdout",
     "output_type": "stream",
     "text": [
      "True\n"
     ]
    }
   ],
   "source": [
    "email = input('Enter your email')\n",
    "password = input('Enter your password')\n",
    "print(email == 'admin@gmail.com' and password == 'admin@123')"
   ]
  },
  {
   "cell_type": "code",
   "execution_count": 27,
   "id": "f4852c0e-ed6f-422b-8738-4dd6c896125e",
   "metadata": {},
   "outputs": [
    {
     "name": "stdin",
     "output_type": "stream",
     "text": [
      "Enter a number 5\n"
     ]
    },
    {
     "name": "stdout",
     "output_type": "stream",
     "text": [
      "Positive Number\n",
      "Positive\n",
      "Positive\n"
     ]
    }
   ],
   "source": [
    "num = int(input(\"Enter a number\"))\n",
    "if num>0:\n",
    "    print(\"Positive Number\")\n",
    "elif num==0:\n",
    "    print(\"Number is zero\")\n",
    "else:\n",
    "    print(\"Number is negative\")\n",
    "\n",
    "\n",
    "# Ternary\n",
    "num = 5\n",
    "print(\"Positive\") if num>0 else print(\"Non-positive\")\n",
    "\n",
    "num = 5\n",
    "result = \"Positive\" if num>0 else \"Non-positive\"\n",
    "print(result)"
   ]
  },
  {
   "cell_type": "markdown",
   "id": "8b07e7bd-6e25-4ee7-ad90-a23601ad8026",
   "metadata": {},
   "source": [
    "num = 10\n",
    "if num>0:\n",
    "    if num%2==0:\n",
    "        print(\"Even Positive\")\n",
    "    else:\n",
    "        print(\"Odd Positive\")\n",
    "else:\n",
    "    print(\"Non-positive\")\n",
    "    "
   ]
  },
  {
   "cell_type": "code",
   "execution_count": 29,
   "id": "0ab6254d-0aa5-46c7-b6d8-e005ecc4c8c8",
   "metadata": {},
   "outputs": [],
   "source": [
    "# Pass Statement\n",
    "num = 5\n",
    "if num>0:\n",
    "    pass\n",
    "else:\n",
    "    print(\"This won't execute\")\n",
    "    "
   ]
  },
  {
   "cell_type": "code",
   "execution_count": 33,
   "id": "26639dff-b1e3-4d9b-9418-5fc975886db8",
   "metadata": {},
   "outputs": [
    {
     "name": "stdin",
     "output_type": "stream",
     "text": [
      "Enter your marks 78\n"
     ]
    },
    {
     "name": "stdout",
     "output_type": "stream",
     "text": [
      "Grade B\n"
     ]
    }
   ],
   "source": [
    "mark = int(input(\"Enter your marks\"))\n",
    "if mark>=90 and mark<=100:\n",
    "    print(\"Grade A\")\n",
    "elif mark>=70:\n",
    "    print(\"Grade B\")\n",
    "elif mark>=50:\n",
    "    print(\"Grade C\")\n",
    "elif mark>=0:\n",
    "    print(\"Fail\")\n",
    "else:\n",
    "    print(\"Enter valid marks\")"
   ]
  },
  {
   "cell_type": "code",
   "execution_count": 38,
   "id": "6a7673d9-ac84-417c-8b66-0dc3117169dd",
   "metadata": {},
   "outputs": [
    {
     "name": "stdin",
     "output_type": "stream",
     "text": [
      "Enter a number 0\n"
     ]
    },
    {
     "name": "stdout",
     "output_type": "stream",
     "text": [
      "It's zero\n"
     ]
    }
   ],
   "source": [
    "num = int(input(\"Enter a number\"))\n",
    "if num>0:\n",
    "    if num%2==0:\n",
    "        print(\"Even Number\")\n",
    "    else:\n",
    "        print(\"Odd Number\")\n",
    "elif num==0:\n",
    "    print(\"It's zero\")\n",
    "else:\n",
    "    if num<-10:\n",
    "        print(\"It is less than -10\")\n",
    "    else:\n",
    "        print(\"Enter valid number\")"
   ]
  },
  {
   "cell_type": "code",
   "execution_count": 47,
   "id": "0c7a41c2-080d-4e19-910b-e3c6cd41d43f",
   "metadata": {},
   "outputs": [
    {
     "name": "stdin",
     "output_type": "stream",
     "text": [
      "Enter the amount 200\n"
     ]
    },
    {
     "name": "stdout",
     "output_type": "stream",
     "text": [
      "Discount:  20.0 Final Price:  180.0\n"
     ]
    }
   ],
   "source": [
    "num = int(input(\"Enter the amount\"))\n",
    "if num>500:\n",
    "    dis = 0.2*num\n",
    "elif num>=200:\n",
    "    dis = 0.1*num\n",
    "else:\n",
    "    dis = 0\n",
    "print(\"Discount: \",dis,\"Final Price: \",num-dis)"
   ]
  },
  {
   "cell_type": "code",
   "execution_count": 50,
   "id": "005c56c0-98bb-4fa6-a310-9d72a494ffcf",
   "metadata": {},
   "outputs": [
    {
     "name": "stdout",
     "output_type": "stream",
     "text": [
      "Count:  1\n",
      "Count:  2\n",
      "Count:  3\n",
      "Count:  4\n",
      "Count:  5\n",
      "Number:  1\n",
      "Number:  2\n",
      "Number:  3\n",
      "Number:  4\n",
      "Number:  5\n",
      "Count is:  0\n",
      "Count is:  1\n",
      "Count is:  2\n",
      "Breaking at count:  3\n",
      "Number is:  1\n",
      "Number is:  2\n",
      "Number is:  3\n",
      "Number is:  4\n",
      "Breaking at number:  5\n"
     ]
    }
   ],
   "source": [
    "#While Loop\n",
    "count = 1\n",
    "while count<=5:\n",
    "    print(\"Count: \",count)\n",
    "    count+=1\n",
    "\n",
    "#For Loop\n",
    "for num in range(1,6):\n",
    "    print(\"Number: \",num)\n",
    "\n",
    "#While with break\n",
    "count = 0\n",
    "while(count<5):\n",
    "    if count == 3:\n",
    "        print(\"Breaking at count: \",count)\n",
    "        break\n",
    "    print(\"Count is: \",count)\n",
    "    count += 1\n",
    "\n",
    "\n",
    "#For with break\n",
    "for num in range(1,6):\n",
    "    if num == 5:\n",
    "        print(\"Breaking at number: \",num)\n",
    "        break\n",
    "    print(\"Number is: \",num)\n",
    "    "
   ]
  },
  {
   "cell_type": "code",
   "execution_count": 59,
   "id": "7adcbb47-d702-4d02-a303-1ff789c7f8f5",
   "metadata": {},
   "outputs": [
    {
     "name": "stdin",
     "output_type": "stream",
     "text": [
      "Enter first number 2\n",
      "Enter second number 10\n"
     ]
    },
    {
     "name": "stdout",
     "output_type": "stream",
     "text": [
      "2 ,4 ,6 ,8 ,10 ,Sum is:  30\n"
     ]
    }
   ],
   "source": [
    "a = int(input(\"Enter first number\"))\n",
    "b = int(input(\"Enter second number\"))\n",
    "summ = 0\n",
    "for n in range(a,b+1):\n",
    "    if n%2==0:\n",
    "        print(n,\",\",end=\"\")\n",
    "        summ+=n\n",
    "print(\"Sum is: \",summ)\n",
    "\n",
    "\n"
   ]
  },
  {
   "cell_type": "code",
   "execution_count": 58,
   "id": "5853651c-e7d1-4f47-998f-eca6b735cdcb",
   "metadata": {},
   "outputs": [
    {
     "name": "stdin",
     "output_type": "stream",
     "text": [
      "Enter a number 5\n"
     ]
    },
    {
     "name": "stdout",
     "output_type": "stream",
     "text": [
      "1  \n",
      "1  2  \n",
      "1  2  3  \n",
      "1  2  3  4  \n",
      "1  2  3  4  5  \n"
     ]
    }
   ],
   "source": [
    "n = int(input(\"Enter a number\"))\n",
    "for i in range(1,n+1):\n",
    "    for j in range(1,i+1):\n",
    "        print(j,\" \",end=\"\")\n",
    "    print()"
   ]
  },
  {
   "cell_type": "code",
   "execution_count": 60,
   "id": "062ee8ba-3603-4054-b50e-9db3f16d349e",
   "metadata": {},
   "outputs": [
    {
     "name": "stdout",
     "output_type": "stream",
     "text": [
      "Hello World\n"
     ]
    }
   ],
   "source": [
    "def hello():\n",
    "    print(\"Hello World\")\n",
    "\n",
    "hello()\n"
   ]
  },
  {
   "cell_type": "code",
   "execution_count": 62,
   "id": "0d863108-55f1-4cac-b5b7-c17535b6bcc6",
   "metadata": {},
   "outputs": [
    {
     "name": "stdout",
     "output_type": "stream",
     "text": [
      "Hello Vishal\n"
     ]
    }
   ],
   "source": [
    "def greet(name):\n",
    "    print(\"Hello\",name)\n",
    "\n",
    "greet('Vishal')\n",
    "\n"
   ]
  },
  {
   "cell_type": "code",
   "execution_count": 64,
   "id": "102510a5-c8dd-43b2-85b1-2ac4866e2e9a",
   "metadata": {},
   "outputs": [
    {
     "name": "stdout",
     "output_type": "stream",
     "text": [
      "The sum of 3 and 4 is 7\n"
     ]
    }
   ],
   "source": [
    "def add_num(a,b):\n",
    "    print(f\"The sum of {a} and {b} is {a+b}\")\n",
    "\n",
    "add_num(3,4)"
   ]
  },
  {
   "cell_type": "code",
   "execution_count": 65,
   "id": "b41462a2-8e55-4fd2-9779-1ddcbe23f0d6",
   "metadata": {},
   "outputs": [
    {
     "name": "stdout",
     "output_type": "stream",
     "text": [
      "Hello Vishal\n",
      "Hello Guest\n"
     ]
    }
   ],
   "source": [
    "def greet(name = \"Guest\"):\n",
    "    print(f\"Hello {name}\")\n",
    "\n",
    "greet(\"Vishal\")\n",
    "greet()\n"
   ]
  },
  {
   "cell_type": "code",
   "execution_count": 67,
   "id": "dfe750e7-4f8d-4a9e-a4e6-bebf5f5db61a",
   "metadata": {},
   "outputs": [
    {
     "name": "stdout",
     "output_type": "stream",
     "text": [
      "The product is 12\n"
     ]
    }
   ],
   "source": [
    "def mul(a,b):\n",
    "    return a*b\n",
    "\n",
    "print(f\"The product is {mul(3,4)}\")\n"
   ]
  },
  {
   "cell_type": "code",
   "execution_count": 69,
   "id": "da505048-f741-43d7-aa95-8a7c05f89ac1",
   "metadata": {},
   "outputs": [
    {
     "name": "stdout",
     "output_type": "stream",
     "text": [
      "AA is 25 years old and lives in New York.\n"
     ]
    }
   ],
   "source": [
    "def des(name,age,city):\n",
    "    print(f\"{name} is {age} years old and lives in {city}.\")\n",
    "\n",
    "des(age=25,city=\"New York\",name=\"AA\")"
   ]
  },
  {
   "cell_type": "code",
   "execution_count": 70,
   "id": "0ce47ca5-6ca1-44c4-bd31-e4ba59a166a5",
   "metadata": {},
   "outputs": [
    {
     "name": "stdout",
     "output_type": "stream",
     "text": [
      "The factorial of 5 is 120\n"
     ]
    }
   ],
   "source": [
    "def fact(n):\n",
    "    if n==1:\n",
    "        return 1\n",
    "    else:\n",
    "        return n * fact(n-1)\n",
    "\n",
    "print(f\"The factorial of 5 is {fact(5)}\")"
   ]
  },
  {
   "cell_type": "code",
   "execution_count": 75,
   "id": "1156e1d6-274f-409b-8df3-9bc1fc13d751",
   "metadata": {},
   "outputs": [
    {
     "name": "stdout",
     "output_type": "stream",
     "text": [
      "Login Successful\n",
      "Wrong credentials\n"
     ]
    },
    {
     "name": "stdin",
     "output_type": "stream",
     "text": [
      "Enter email admin@gmail.com\n",
      "Enter password admin@123\n"
     ]
    },
    {
     "name": "stdout",
     "output_type": "stream",
     "text": [
      "Login Successful\n"
     ]
    }
   ],
   "source": [
    "def login(email,password):\n",
    "    if email==\"admin@gmail.com\" and password == \"admin@123\":\n",
    "        print(\"Login Successful\")\n",
    "    else:\n",
    "        print(\"Wrong credentials\")\n",
    "\n",
    "login(\"admin@gmail.com\",\"admin@123\")\n",
    "login(\"admin@hotmail.com\",\"admin@123\")\n",
    "\n",
    "email = input(\"Enter email\")\n",
    "password = input(\"Enter password\")\n",
    "\n",
    "login(email,password)"
   ]
  },
  {
   "cell_type": "code",
   "execution_count": 99,
   "id": "c0273c5e-7340-4360-a708-c6dc0e316776",
   "metadata": {},
   "outputs": [
    {
     "name": "stdout",
     "output_type": "stream",
     "text": [
      "[10, 20, 30, 40, 50]\n",
      "40\n",
      "[10, 20, 30, 40, 50, 60]\n",
      "[10, 20, 25, 30, 40, 50, 60]\n",
      "[60, 50, 40, 30, 25, 20, 10]\n",
      "60\n",
      "6\n",
      "10\n",
      "50\n",
      "[10, 20, 30, 40, 50]\n",
      "50\n",
      "[20, 30]\n",
      "[10, 20, 30, 40, 50, 2, 3, 4]\n",
      "[10, 20, 30, 40, 35, 2, 3, 4]\n",
      "[10, 20, 30, 40, 35, 2, 3]\n",
      "[10, 20, 30, 35, 2, 3]\n",
      "[]\n"
     ]
    }
   ],
   "source": [
    "#List\n",
    "myList = [10,20,30,40,50]\n",
    "print(myList)\n",
    "\n",
    "print(myList[3])\n",
    "myList.append(60)\n",
    "print(myList)\n",
    "myList.insert(2,25)\n",
    "print(myList)\n",
    "print(myList[::-1])\n",
    "print(myList.pop())\n",
    "print(len(myList))\n",
    "print(min(myList))\n",
    "print(max(myList))\n",
    "# total = sum(myList)\n",
    "# print(total)\n",
    "\n",
    "myList.remove(25)\n",
    "print(myList)\n",
    "\n",
    "\n",
    "print(myList[-1])\n",
    "print(myList[1:3])\n",
    "myList.extend([2,3,4])\n",
    "print(myList)\n",
    "\n",
    "myList[4] = 35\n",
    "print(myList)\n",
    "\n",
    "myList.pop()\n",
    "print(myList)\n",
    "myList.pop(3)\n",
    "print(myList)\n",
    "\n",
    "myList.clear()\n",
    "print(myList)\n"
   ]
  },
  {
   "cell_type": "code",
   "execution_count": 102,
   "id": "9bfe42e1-bd70-4470-b867-b1c0c1acda1f",
   "metadata": {},
   "outputs": [
    {
     "name": "stdout",
     "output_type": "stream",
     "text": [
      "1\n",
      "2\n",
      "3\n",
      "4\n",
      "5\n",
      "6\n",
      "7\n",
      "8\n",
      "---------------------------------------------\n",
      "1\n",
      "2\n",
      "3\n",
      "4\n",
      "5\n",
      "6\n",
      "7\n",
      "8\n"
     ]
    }
   ],
   "source": [
    "myDate = [1,2,3,4,5,6,7,8]\n",
    "for i in myDate:\n",
    "    print(i)\n",
    "print(\"---------------------------------------------\")\n",
    "\n",
    "i = 0\n",
    "while i <len(myDate):\n",
    "    print(myDate[i])\n",
    "    i+=1\n"
   ]
  },
  {
   "cell_type": "code",
   "execution_count": 107,
   "id": "a0bcebb5-61a8-476b-9cc1-6a8e767eb990",
   "metadata": {},
   "outputs": [
    {
     "name": "stdout",
     "output_type": "stream",
     "text": [
      "[8, 7, 6, 5, 4, 3, 2, 1]\n"
     ]
    }
   ],
   "source": [
    "myDate.sort(reverse=True)\n",
    "print(myDate)\n"
   ]
  },
  {
   "cell_type": "code",
   "execution_count": 108,
   "id": "23c70029-35b9-4f4b-a13e-8b05e44c84f4",
   "metadata": {},
   "outputs": [
    {
     "name": "stdout",
     "output_type": "stream",
     "text": [
      "[1, 2, 3, 4, 5, 6, 7, 8]\n"
     ]
    }
   ],
   "source": [
    "\n",
    "myDate.reverse()\n",
    "print(myDate)\n"
   ]
  },
  {
   "cell_type": "code",
   "execution_count": 110,
   "id": "a43f1138-903c-4ca8-864d-89d93b143bc3",
   "metadata": {},
   "outputs": [
    {
     "name": "stdout",
     "output_type": "stream",
     "text": [
      "[1, 2, 3, 4, 5, 6, 7, 8]\n",
      "[1, 4, 9, 16, 25, 36, 49, 64]\n"
     ]
    }
   ],
   "source": [
    "copy_num = myDate.copy()\n",
    "print(copy_num)\n",
    "\n",
    "squares = [x ** 2 for x in copy_num]\n",
    "print(squares)\n",
    "\n"
   ]
  },
  {
   "cell_type": "code",
   "execution_count": 111,
   "id": "50a34282-252a-481c-bc5d-216a1749eab7",
   "metadata": {},
   "outputs": [
    {
     "name": "stdin",
     "output_type": "stream",
     "text": [
      "Enter 1 to Add ToDo\n",
      "Enter 2 to Remove ToDo\n",
      "Enter 3 to Get all Todos\n",
      "Enter 4 to Exit\n",
      " 1\n",
      "Enter the task sleep\n"
     ]
    },
    {
     "name": "stdout",
     "output_type": "stream",
     "text": [
      "['sleep']\n"
     ]
    },
    {
     "name": "stdin",
     "output_type": "stream",
     "text": [
      "Enter 1 to Add ToDo\n",
      "Enter 2 to Remove ToDo\n",
      "Enter 3 to Get all Todos\n",
      "Enter 4 to Exit\n",
      " 1\n",
      "Enter the task greet\n"
     ]
    },
    {
     "name": "stdout",
     "output_type": "stream",
     "text": [
      "['sleep', 'greet']\n"
     ]
    },
    {
     "name": "stdin",
     "output_type": "stream",
     "text": [
      "Enter 1 to Add ToDo\n",
      "Enter 2 to Remove ToDo\n",
      "Enter 3 to Get all Todos\n",
      "Enter 4 to Exit\n",
      " 1\n",
      "Enter the task sit\n"
     ]
    },
    {
     "name": "stdout",
     "output_type": "stream",
     "text": [
      "['sleep', 'greet', 'sit']\n"
     ]
    },
    {
     "name": "stdin",
     "output_type": "stream",
     "text": [
      "Enter 1 to Add ToDo\n",
      "Enter 2 to Remove ToDo\n",
      "Enter 3 to Get all Todos\n",
      "Enter 4 to Exit\n",
      " 1\n",
      "Enter the task stand\n"
     ]
    },
    {
     "name": "stdout",
     "output_type": "stream",
     "text": [
      "['sleep', 'greet', 'sit', 'stand']\n"
     ]
    },
    {
     "name": "stdin",
     "output_type": "stream",
     "text": [
      "Enter 1 to Add ToDo\n",
      "Enter 2 to Remove ToDo\n",
      "Enter 3 to Get all Todos\n",
      "Enter 4 to Exit\n",
      " 2\n",
      "Enter the index 2\n"
     ]
    },
    {
     "name": "stdout",
     "output_type": "stream",
     "text": [
      "['sleep', 'greet', 'stand']\n"
     ]
    },
    {
     "name": "stdin",
     "output_type": "stream",
     "text": [
      "Enter 1 to Add ToDo\n",
      "Enter 2 to Remove ToDo\n",
      "Enter 3 to Get all Todos\n",
      "Enter 4 to Exit\n",
      " 3\n"
     ]
    },
    {
     "name": "stdout",
     "output_type": "stream",
     "text": [
      "['sleep', 'greet', 'stand']\n"
     ]
    },
    {
     "name": "stdin",
     "output_type": "stream",
     "text": [
      "Enter 1 to Add ToDo\n",
      "Enter 2 to Remove ToDo\n",
      "Enter 3 to Get all Todos\n",
      "Enter 4 to Exit\n",
      " 4\n"
     ]
    }
   ],
   "source": [
    "myTodo = []\n",
    "\n",
    "def add_todo(todo):\n",
    "    myTodo.append(todo)\n",
    "    print(myTodo)\n",
    "\n",
    "\n",
    "def remove_todo(i):\n",
    "    myTodo.pop(i)\n",
    "    print(myTodo)\n",
    "\n",
    "def get_all_todos():\n",
    "    print(myTodo)\n",
    "\n",
    "\n",
    "while True:\n",
    "    c = int(input(\"Enter 1 to Add ToDo\\nEnter 2 to Remove ToDo\\nEnter 3 to Get all Todos\\nEnter 4 to Exit\\n\"))\n",
    "    if c == 1:\n",
    "        todo = input(\"Enter the task\")\n",
    "        add_todo(todo)\n",
    "    elif c==2:\n",
    "        i = int(input(\"Enter the index\"))\n",
    "        remove_todo(i)\n",
    "    elif c==3:\n",
    "        get_all_todos()\n",
    "    elif c==4:\n",
    "        break\n",
    "    else:\n",
    "        print(\"Enter a valid choice\")"
   ]
  },
  {
   "cell_type": "code",
   "execution_count": 115,
   "id": "575de642-c28d-4957-ae12-a5f8b0904b2a",
   "metadata": {},
   "outputs": [
    {
     "name": "stdout",
     "output_type": "stream",
     "text": [
      "('apple', 'banana', 'cherry')\n",
      "('test', 'True', 78.4, 45, [2, 3, 4])\n",
      "()\n",
      "('hell',)\n",
      "<class 'tuple'>\n",
      "(10, 20, 30, 40)\n"
     ]
    }
   ],
   "source": [
    "fruits = (\"apple\",\"banana\",\"cherry\")\n",
    "print(fruits)\n",
    "\n",
    "mixed = ('test',\"True\",78.4,45,[2,3,4])\n",
    "print(mixed)\n",
    "\n",
    "empty_tup = ()\n",
    "print(empty_tup)\n",
    "\n",
    "data = ('hell',)\n",
    "print(data)\n",
    "print(type(data))\n",
    "\n",
    "\n",
    "numbers_tuple = (10,20,30)\n",
    "numbers_list = list(numbers_tuple)\n",
    "\n",
    "numbers_list.append(40)\n",
    "\n",
    "numbers_tuple = tuple(numbers_list)\n",
    "print(numbers_tuple)\n"
   ]
  },
  {
   "cell_type": "code",
   "execution_count": 117,
   "id": "785610ed-2d40-424d-b0c2-a9f1244e3942",
   "metadata": {},
   "outputs": [
    {
     "name": "stdout",
     "output_type": "stream",
     "text": [
      "(1, 2, 3, 4, 5, 6)\n",
      "('temp', 'temp', 'temp', 'temp')\n"
     ]
    }
   ],
   "source": [
    "tuple1 = (1,2,3)\n",
    "tuple2 = (4,5,6)\n",
    "result = tuple1+tuple2\n",
    "print(result)\n",
    "\n",
    "new_tuple = ('temp',)*4\n",
    "print(new_tuple)\n"
   ]
  },
  {
   "cell_type": "code",
   "execution_count": 120,
   "id": "80ef28d0-4349-406e-bd03-3f655ab523eb",
   "metadata": {},
   "outputs": [
    {
     "name": "stdout",
     "output_type": "stream",
     "text": [
      "1\n",
      "2\n"
     ]
    }
   ],
   "source": [
    "list = [1,2,3,4,5,6,7,8]\n",
    "print(list.count(3))\n",
    "\n",
    "print(list.index(3))\n"
   ]
  },
  {
   "cell_type": "code",
   "execution_count": 125,
   "id": "03137a9e-838c-4174-a9d7-23dcef3a5ae6",
   "metadata": {},
   "outputs": [
    {
     "name": "stdout",
     "output_type": "stream",
     "text": [
      "{'eid': 1001, 'name': 'Vishal Kumar', 'dept': 'Digital', 'sal': '8765'}\n",
      "Employee Id: 1001\n",
      "Employee Name: Vishal Kumar\n",
      "Manager:  None\n",
      "Manager:  sdfghjkl\n"
     ]
    }
   ],
   "source": [
    "# Employee Dictionary\n",
    "\n",
    "employee={\n",
    "    \"eid\":1001,\n",
    "    \"name\":\"Vishal Kumar\",\n",
    "    \"dept\":\"Digital\",\n",
    "    \"sal\":\"8765\"\n",
    "}\n",
    "\n",
    "print(employee)\n",
    "print('Employee Id:',employee['eid'])\n",
    "print('Employee Name:',employee['name'])\n",
    "\n",
    "# print('Manager: ',employee['manager']) ##Shows error if there is no key as manager\n",
    "print('Manager: ',employee.get('manager'))\n",
    "print('Manager: ',employee.get('manager','sdfghjkl'))\n",
    "\n",
    "rem = employee.pop"
   ]
  },
  {
   "cell_type": "code",
   "execution_count": 132,
   "id": "97ece0f5-84e8-4178-aa24-77ab00f7bbf3",
   "metadata": {},
   "outputs": [
    {
     "name": "stdout",
     "output_type": "stream",
     "text": [
      "id :  1\n",
      "name :  AA\n",
      "email :  aa@gmail.com\n",
      "address :  US\n",
      "dict_items([('id', 1), ('name', 'AA'), ('email', 'aa@gmail.com'), ('address', 'US')])\n",
      "id :  1\n",
      "name :  AA\n",
      "email :  aa@gmail.com\n",
      "address :  US\n"
     ]
    }
   ],
   "source": [
    "student={\n",
    "    \"id\":1,\n",
    "    \"name\":\"AA\",\n",
    "    \"email\":\"aa@gmail.com\",\n",
    "    \"address\":\"US\"\n",
    "}\n",
    "\n",
    "for key in student:\n",
    "    print(key,\": \",student[key])\n",
    "\n",
    "print(student.items())\n",
    "\n",
    "for key,value in student.items():\n",
    "    print(key,\": \",value)\n",
    "\n"
   ]
  },
  {
   "cell_type": "code",
   "execution_count": 144,
   "id": "5d8bf132-a816-46ed-a188-45b6dac18f39",
   "metadata": {},
   "outputs": [
    {
     "name": "stdout",
     "output_type": "stream",
     "text": [
      "{403, 404, 500, 200, 302}\n",
      "403\n",
      "404\n",
      "500\n",
      "200\n",
      "302\n",
      "{402, 403, 404, 500, 200, 302, 303}\n",
      "{402, 403, 404, 500, 200, 302}\n",
      "{402, 403, 404, 500, 200}\n",
      "{403, 404, 500, 200}\n",
      "set()\n"
     ]
    }
   ],
   "source": [
    "# Set\n",
    "myset = {404,200,500,302,403,302}\n",
    "print(myset)\n",
    "\n",
    "for num in myset:\n",
    "    print(num)\n",
    "\n",
    "myset.update([303,402])\n",
    "print(myset)\n",
    "\n",
    "myset.remove(303)\n",
    "print(myset)\n",
    "\n",
    "myset.discard(302)\n",
    "print(myset)\n",
    "\n",
    "myset.pop()\n",
    "print(myset)\n",
    "\n",
    "myset.clear()\n",
    "print(myset)\n"
   ]
  },
  {
   "cell_type": "code",
   "execution_count": 145,
   "id": "0b5fb363-e1b6-4c21-a807-99155e5db0e1",
   "metadata": {},
   "outputs": [
    {
     "name": "stdout",
     "output_type": "stream",
     "text": [
      "{1, 2, 3, 4, 5, 6, 7}\n",
      "{1, 2, 3, 4, 5, 6, 7}\n",
      "{3, 4, 5}\n",
      "{3, 4, 5}\n",
      "{1, 2}\n",
      "{1, 2}\n",
      "{1, 2, 6, 7}\n",
      "{1, 2, 6, 7}\n"
     ]
    }
   ],
   "source": [
    "A = {1,2,3,4,5}\n",
    "B = {3,4,5,6,7}\n",
    "\n",
    "print(A|B)\n",
    "print(A.union(B))\n",
    "\n",
    "print(A&B)\n",
    "print(A.intersection(B))\n",
    "\n",
    "print(A-B)\n",
    "print(A.difference(B))\n",
    "\n",
    "print(A^B)\n",
    "print(A.symmetric_difference(B))\n"
   ]
  },
  {
   "cell_type": "code",
   "execution_count": 162,
   "id": "e23eccea-e92b-405b-b4eb-713d34be17e4",
   "metadata": {},
   "outputs": [
    {
     "name": "stdout",
     "output_type": "stream",
     "text": [
      "Initial employees and salaries:\n",
      "Current employees and salaries:\n",
      "emp1: Alice - 70000\n",
      "emp2: Bob - 80000\n",
      "emp3: Charlie - 75000\n",
      "Employee \"David\" with salary 85000 added.\n",
      "Employee \"Bob\" salary updated to 90000.\n",
      "Employee \"Charlie\" removed.\n",
      "Updated employees and salaries:\n",
      "Current employees and salaries:\n",
      "emp1: Alice - 70000\n",
      "emp2: Bob - 90000\n",
      "emp4: David - 85000\n"
     ]
    }
   ],
   "source": [
    "# Initialize a dictionary with 3 employees and their salaries\n",
    "employees = {\n",
    "    \"emp1\": {\"name\": \"Alice\", \"salary\": 70000},\n",
    "    \"emp2\": {\"name\": \"Bob\", \"salary\": 80000},\n",
    "    \"emp3\": {\"name\": \"Charlie\", \"salary\": 75000}\n",
    "}\n",
    " \n",
    "def add_employee(emp_id, name, salary):\n",
    "    employees[emp_id] = {\"name\": name, \"salary\": salary}\n",
    "    print(f'Employee \"{name}\" with salary {salary} added.')\n",
    " \n",
    " \n",
    "def update_employee(emp_id, new_salary):\n",
    "    if emp_id in employees:\n",
    "        employees[emp_id][\"salary\"] = new_salary\n",
    "        print(f'Employee \"{employees[emp_id][\"name\"]}\" salary updated to {new_salary}.')\n",
    "    else:\n",
    "        print(f'Employee with ID \"{emp_id}\" not found.')\n",
    " \n",
    "def remove_employee(emp_id):\n",
    "    if emp_id in employees:\n",
    "        removed_employee = employees.pop(emp_id)\n",
    "        print(f'Employee \"{removed_employee[\"name\"]}\" removed.')\n",
    "    else:\n",
    "        print(f'Employee with ID \"{emp_id}\" not found.')\n",
    " \n",
    "def print_all_employees():\n",
    "    print(\"Current employees and salaries:\")\n",
    "    for emp_id, details in employees.items():\n",
    "        print(f'{emp_id}: {details[\"name\"]} - {details[\"salary\"]}')\n",
    " \n",
    " \n",
    "print(\"Initial employees and salaries:\")\n",
    "print_all_employees()\n",
    "\n",
    "add_employee(\"emp4\", \"David\", 85000)\n",
    "update_employee(\"emp2\", 90000)\n",
    "remove_employee(\"emp3\")\n",
    " \n",
    "print(\"Updated employees and salaries:\")\n",
    "print_all_employees()"
   ]
  },
  {
   "cell_type": "code",
   "execution_count": null,
   "id": "c1662c65-eb3d-42fa-aef8-1bf38697eca4",
   "metadata": {},
   "outputs": [],
   "source": []
  }
 ],
 "metadata": {
  "kernelspec": {
   "display_name": "Python 3 (ipykernel)",
   "language": "python",
   "name": "python3"
  },
  "language_info": {
   "codemirror_mode": {
    "name": "ipython",
    "version": 3
   },
   "file_extension": ".py",
   "mimetype": "text/x-python",
   "name": "python",
   "nbconvert_exporter": "python",
   "pygments_lexer": "ipython3",
   "version": "3.13.2"
  }
 },
 "nbformat": 4,
 "nbformat_minor": 5
}
